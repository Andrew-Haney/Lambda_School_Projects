{
  "nbformat": 4,
  "nbformat_minor": 0,
  "metadata": {
    "colab": {
      "name": "Final_4/1/2021_Andrew_Haney_Unit2_Project_Pred_Model.ipynb",
      "provenance": [],
      "collapsed_sections": []
    },
    "kernelspec": {
      "name": "python3",
      "display_name": "Python 3"
    },
    "language_info": {
      "name": "python"
    }
  },
  "cells": [
    {
      "cell_type": "markdown",
      "metadata": {
        "id": "S60LyPUNUksq"
      },
      "source": [
        "## *Import Libraries and Dataset*"
      ]
    },
    {
      "cell_type": "code",
      "metadata": {
        "id": "I8qrR1D6vuEE",
        "colab": {
          "base_uri": "https://localhost:8080/"
        },
        "outputId": "a68a1cea-abac-4073-cb91-2614d32457b5"
      },
      "source": [
        "import sys\n",
        "!pip install category_encoders\n",
        "\n",
        "import pandas as pd\n",
        "import numpy as np\n",
        "import matplotlib.pyplot as plt\n",
        "from sklearn.model_selection import train_test_split\n",
        "from sklearn.pipeline import make_pipeline\n",
        "from category_encoders import OneHotEncoder, OrdinalEncoder\n",
        "from sklearn.ensemble import RandomForestClassifier\n",
        "from sklearn.impute import SimpleImputer\n",
        "from sklearn.metrics import plot_confusion_matrix, classification_report\n",
        "from sklearn.metrics import roc_curve, roc_auc_score\n",
        "\n",
        "\n",
        "cols = ['ID', 'Age', 'Gender', 'Education', 'Country', 'Ethnicity', 'NScore_Neuroticism',\n",
        "        'EScore_Extraversion', 'OScore_Open_to_Exp', 'AScore_Agreeableness',\n",
        "        'CScore_Conscientiousness', 'Impulsiveness', 'Sensation_Seeing', 'Alcohol',\n",
        "        'Amphetamine', 'Amyl', 'Benzos', 'Caffeine', 'Cannabis', 'Chocolate', 'Cocaine',\n",
        "        'Crack', 'Ecstasy', 'Heroin', 'Ketamine', 'Legal_Highs', 'LSD', 'Meth', \n",
        "        'Mushrooms', 'Nicotine', 'Semeron', 'VSA']\n",
        "df = pd.read_csv('/content/drug_consumption.data',\n",
        "                 header = 0, names= cols, index_col = 'ID',\n",
        "                 dtype= 'object')\n",
        "\n",
        "df = df.copy()"
      ],
      "execution_count": 93,
      "outputs": [
        {
          "output_type": "stream",
          "text": [
            "Requirement already satisfied: category_encoders in /usr/local/lib/python3.7/dist-packages (2.2.2)\n",
            "Requirement already satisfied: pandas>=0.21.1 in /usr/local/lib/python3.7/dist-packages (from category_encoders) (1.1.5)\n",
            "Requirement already satisfied: scipy>=1.0.0 in /usr/local/lib/python3.7/dist-packages (from category_encoders) (1.4.1)\n",
            "Requirement already satisfied: numpy>=1.14.0 in /usr/local/lib/python3.7/dist-packages (from category_encoders) (1.19.5)\n",
            "Requirement already satisfied: scikit-learn>=0.20.0 in /usr/local/lib/python3.7/dist-packages (from category_encoders) (0.22.2.post1)\n",
            "Requirement already satisfied: statsmodels>=0.9.0 in /usr/local/lib/python3.7/dist-packages (from category_encoders) (0.10.2)\n",
            "Requirement already satisfied: patsy>=0.5.1 in /usr/local/lib/python3.7/dist-packages (from category_encoders) (0.5.1)\n",
            "Requirement already satisfied: python-dateutil>=2.7.3 in /usr/local/lib/python3.7/dist-packages (from pandas>=0.21.1->category_encoders) (2.8.1)\n",
            "Requirement already satisfied: pytz>=2017.2 in /usr/local/lib/python3.7/dist-packages (from pandas>=0.21.1->category_encoders) (2018.9)\n",
            "Requirement already satisfied: joblib>=0.11 in /usr/local/lib/python3.7/dist-packages (from scikit-learn>=0.20.0->category_encoders) (1.0.1)\n",
            "Requirement already satisfied: six in /usr/local/lib/python3.7/dist-packages (from patsy>=0.5.1->category_encoders) (1.15.0)\n"
          ],
          "name": "stdout"
        }
      ]
    },
    {
      "cell_type": "markdown",
      "metadata": {
        "id": "_huk489ycnVH"
      },
      "source": [
        "### *Wrangle and Clean Data*"
      ]
    },
    {
      "cell_type": "code",
      "metadata": {
        "id": "zrh0Iwdhv80h"
      },
      "source": [
        "def wrangle(df):\n",
        "  cutoff = 500\n",
        "  hcc_cols = [col for col in df.select_dtypes('object').columns\n",
        "              if df[col].nunique() > cutoff]\n",
        "  df.drop(columns=hcc_cols, inplace=True)\n",
        "  single_cols = [col for col in df.select_dtypes('object').columns\n",
        "              if df[col].nunique() == 1]\n",
        "  df.drop(columns= single_cols, inplace= True)\n",
        "  return df\n",
        "\n",
        "  df = wrangle(df)"
      ],
      "execution_count": 94,
      "outputs": []
    },
    {
      "cell_type": "code",
      "metadata": {
        "id": "gBJgXIJTwEqE"
      },
      "source": [
        "df.info()"
      ],
      "execution_count": null,
      "outputs": []
    },
    {
      "cell_type": "code",
      "metadata": {
        "colab": {
          "base_uri": "https://localhost:8080/",
          "height": 253
        },
        "id": "X3vgf7-dxwcw",
        "outputId": "beffeb8f-a7a3-4b10-e33e-08859d2755bc"
      },
      "source": [
        "df.head()"
      ],
      "execution_count": 96,
      "outputs": [
        {
          "output_type": "execute_result",
          "data": {
            "text/html": [
              "<div>\n",
              "<style scoped>\n",
              "    .dataframe tbody tr th:only-of-type {\n",
              "        vertical-align: middle;\n",
              "    }\n",
              "\n",
              "    .dataframe tbody tr th {\n",
              "        vertical-align: top;\n",
              "    }\n",
              "\n",
              "    .dataframe thead th {\n",
              "        text-align: right;\n",
              "    }\n",
              "</style>\n",
              "<table border=\"1\" class=\"dataframe\">\n",
              "  <thead>\n",
              "    <tr style=\"text-align: right;\">\n",
              "      <th></th>\n",
              "      <th>Age</th>\n",
              "      <th>Gender</th>\n",
              "      <th>Education</th>\n",
              "      <th>Country</th>\n",
              "      <th>Ethnicity</th>\n",
              "      <th>NScore_Neuroticism</th>\n",
              "      <th>EScore_Extraversion</th>\n",
              "      <th>OScore_Open_to_Exp</th>\n",
              "      <th>AScore_Agreeableness</th>\n",
              "      <th>CScore_Conscientiousness</th>\n",
              "      <th>Impulsiveness</th>\n",
              "      <th>Sensation_Seeing</th>\n",
              "      <th>Alcohol</th>\n",
              "      <th>Amphetamine</th>\n",
              "      <th>Amyl</th>\n",
              "      <th>Benzos</th>\n",
              "      <th>Caffeine</th>\n",
              "      <th>Cannabis</th>\n",
              "      <th>Chocolate</th>\n",
              "      <th>Cocaine</th>\n",
              "      <th>Crack</th>\n",
              "      <th>Ecstasy</th>\n",
              "      <th>Heroin</th>\n",
              "      <th>Ketamine</th>\n",
              "      <th>Legal_Highs</th>\n",
              "      <th>LSD</th>\n",
              "      <th>Meth</th>\n",
              "      <th>Mushrooms</th>\n",
              "      <th>Nicotine</th>\n",
              "      <th>Semeron</th>\n",
              "      <th>VSA</th>\n",
              "    </tr>\n",
              "    <tr>\n",
              "      <th>ID</th>\n",
              "      <th></th>\n",
              "      <th></th>\n",
              "      <th></th>\n",
              "      <th></th>\n",
              "      <th></th>\n",
              "      <th></th>\n",
              "      <th></th>\n",
              "      <th></th>\n",
              "      <th></th>\n",
              "      <th></th>\n",
              "      <th></th>\n",
              "      <th></th>\n",
              "      <th></th>\n",
              "      <th></th>\n",
              "      <th></th>\n",
              "      <th></th>\n",
              "      <th></th>\n",
              "      <th></th>\n",
              "      <th></th>\n",
              "      <th></th>\n",
              "      <th></th>\n",
              "      <th></th>\n",
              "      <th></th>\n",
              "      <th></th>\n",
              "      <th></th>\n",
              "      <th></th>\n",
              "      <th></th>\n",
              "      <th></th>\n",
              "      <th></th>\n",
              "      <th></th>\n",
              "      <th></th>\n",
              "    </tr>\n",
              "  </thead>\n",
              "  <tbody>\n",
              "    <tr>\n",
              "      <th>2</th>\n",
              "      <td>-0.07854</td>\n",
              "      <td>-0.48246</td>\n",
              "      <td>1.98437</td>\n",
              "      <td>0.96082</td>\n",
              "      <td>-0.31685</td>\n",
              "      <td>-0.67825</td>\n",
              "      <td>1.93886</td>\n",
              "      <td>1.43533</td>\n",
              "      <td>0.76096</td>\n",
              "      <td>-0.14277</td>\n",
              "      <td>-0.71126</td>\n",
              "      <td>-0.21575</td>\n",
              "      <td>CL5</td>\n",
              "      <td>CL2</td>\n",
              "      <td>CL2</td>\n",
              "      <td>CL0</td>\n",
              "      <td>CL6</td>\n",
              "      <td>CL4</td>\n",
              "      <td>CL6</td>\n",
              "      <td>CL3</td>\n",
              "      <td>CL0</td>\n",
              "      <td>CL4</td>\n",
              "      <td>CL0</td>\n",
              "      <td>CL2</td>\n",
              "      <td>CL0</td>\n",
              "      <td>CL2</td>\n",
              "      <td>CL3</td>\n",
              "      <td>CL0</td>\n",
              "      <td>CL4</td>\n",
              "      <td>CL0</td>\n",
              "      <td>CL0</td>\n",
              "    </tr>\n",
              "    <tr>\n",
              "      <th>3</th>\n",
              "      <td>0.49788</td>\n",
              "      <td>-0.48246</td>\n",
              "      <td>-0.05921</td>\n",
              "      <td>0.96082</td>\n",
              "      <td>-0.31685</td>\n",
              "      <td>-0.46725</td>\n",
              "      <td>0.80523</td>\n",
              "      <td>-0.84732</td>\n",
              "      <td>-1.62090</td>\n",
              "      <td>-1.01450</td>\n",
              "      <td>-1.37983</td>\n",
              "      <td>0.40148</td>\n",
              "      <td>CL6</td>\n",
              "      <td>CL0</td>\n",
              "      <td>CL0</td>\n",
              "      <td>CL0</td>\n",
              "      <td>CL6</td>\n",
              "      <td>CL3</td>\n",
              "      <td>CL4</td>\n",
              "      <td>CL0</td>\n",
              "      <td>CL0</td>\n",
              "      <td>CL0</td>\n",
              "      <td>CL0</td>\n",
              "      <td>CL0</td>\n",
              "      <td>CL0</td>\n",
              "      <td>CL0</td>\n",
              "      <td>CL0</td>\n",
              "      <td>CL1</td>\n",
              "      <td>CL0</td>\n",
              "      <td>CL0</td>\n",
              "      <td>CL0</td>\n",
              "    </tr>\n",
              "    <tr>\n",
              "      <th>4</th>\n",
              "      <td>-0.95197</td>\n",
              "      <td>0.48246</td>\n",
              "      <td>1.16365</td>\n",
              "      <td>0.96082</td>\n",
              "      <td>-0.31685</td>\n",
              "      <td>-0.14882</td>\n",
              "      <td>-0.80615</td>\n",
              "      <td>-0.01928</td>\n",
              "      <td>0.59042</td>\n",
              "      <td>0.58489</td>\n",
              "      <td>-1.37983</td>\n",
              "      <td>-1.18084</td>\n",
              "      <td>CL4</td>\n",
              "      <td>CL0</td>\n",
              "      <td>CL0</td>\n",
              "      <td>CL3</td>\n",
              "      <td>CL5</td>\n",
              "      <td>CL2</td>\n",
              "      <td>CL4</td>\n",
              "      <td>CL2</td>\n",
              "      <td>CL0</td>\n",
              "      <td>CL0</td>\n",
              "      <td>CL0</td>\n",
              "      <td>CL2</td>\n",
              "      <td>CL0</td>\n",
              "      <td>CL0</td>\n",
              "      <td>CL0</td>\n",
              "      <td>CL0</td>\n",
              "      <td>CL2</td>\n",
              "      <td>CL0</td>\n",
              "      <td>CL0</td>\n",
              "    </tr>\n",
              "    <tr>\n",
              "      <th>5</th>\n",
              "      <td>0.49788</td>\n",
              "      <td>0.48246</td>\n",
              "      <td>1.98437</td>\n",
              "      <td>0.96082</td>\n",
              "      <td>-0.31685</td>\n",
              "      <td>0.73545</td>\n",
              "      <td>-1.63340</td>\n",
              "      <td>-0.45174</td>\n",
              "      <td>-0.30172</td>\n",
              "      <td>1.30612</td>\n",
              "      <td>-0.21712</td>\n",
              "      <td>-0.21575</td>\n",
              "      <td>CL4</td>\n",
              "      <td>CL1</td>\n",
              "      <td>CL1</td>\n",
              "      <td>CL0</td>\n",
              "      <td>CL6</td>\n",
              "      <td>CL3</td>\n",
              "      <td>CL6</td>\n",
              "      <td>CL0</td>\n",
              "      <td>CL0</td>\n",
              "      <td>CL1</td>\n",
              "      <td>CL0</td>\n",
              "      <td>CL0</td>\n",
              "      <td>CL1</td>\n",
              "      <td>CL0</td>\n",
              "      <td>CL0</td>\n",
              "      <td>CL2</td>\n",
              "      <td>CL2</td>\n",
              "      <td>CL0</td>\n",
              "      <td>CL0</td>\n",
              "    </tr>\n",
              "    <tr>\n",
              "      <th>6</th>\n",
              "      <td>2.59171</td>\n",
              "      <td>0.48246</td>\n",
              "      <td>-1.22751</td>\n",
              "      <td>0.24923</td>\n",
              "      <td>-0.31685</td>\n",
              "      <td>-0.67825</td>\n",
              "      <td>-0.30033</td>\n",
              "      <td>-1.55521</td>\n",
              "      <td>2.03972</td>\n",
              "      <td>1.63088</td>\n",
              "      <td>-1.37983</td>\n",
              "      <td>-1.54858</td>\n",
              "      <td>CL2</td>\n",
              "      <td>CL0</td>\n",
              "      <td>CL0</td>\n",
              "      <td>CL0</td>\n",
              "      <td>CL6</td>\n",
              "      <td>CL0</td>\n",
              "      <td>CL4</td>\n",
              "      <td>CL0</td>\n",
              "      <td>CL0</td>\n",
              "      <td>CL0</td>\n",
              "      <td>CL0</td>\n",
              "      <td>CL0</td>\n",
              "      <td>CL0</td>\n",
              "      <td>CL0</td>\n",
              "      <td>CL0</td>\n",
              "      <td>CL0</td>\n",
              "      <td>CL6</td>\n",
              "      <td>CL0</td>\n",
              "      <td>CL0</td>\n",
              "    </tr>\n",
              "  </tbody>\n",
              "</table>\n",
              "</div>"
            ],
            "text/plain": [
              "         Age    Gender Education  Country  ... Mushrooms Nicotine Semeron  VSA\n",
              "ID                                         ...                                \n",
              "2   -0.07854  -0.48246   1.98437  0.96082  ...       CL0      CL4     CL0  CL0\n",
              "3    0.49788  -0.48246  -0.05921  0.96082  ...       CL1      CL0     CL0  CL0\n",
              "4   -0.95197   0.48246   1.16365  0.96082  ...       CL0      CL2     CL0  CL0\n",
              "5    0.49788   0.48246   1.98437  0.96082  ...       CL2      CL2     CL0  CL0\n",
              "6    2.59171   0.48246  -1.22751  0.24923  ...       CL0      CL6     CL0  CL0\n",
              "\n",
              "[5 rows x 31 columns]"
            ]
          },
          "metadata": {
            "tags": []
          },
          "execution_count": 96
        }
      ]
    },
    {
      "cell_type": "code",
      "metadata": {
        "id": "b-oetWSOn-WI"
      },
      "source": [
        "df['Age'] = df['Age'].str.replace('-0.95197', '18-24').str.replace('-0.07854', '25-34').str.replace('0.49788', '35-44').str.replace('1.09449', '45-54').str.replace('1.82213', '55-64').str.replace('2.59171', '65+')\n",
        "df['Gender'] = df['Gender'].str.replace('-0.48246', 'Female').str.replace('0.48246', 'Male')\n",
        "df['Cannabis'] = df['Cannabis'].str.replace('CL6', 'Used_24hrs').str.replace('CL5', 'Used_7days').str.replace('CL4', 'Used_Month').str.replace('CL3', 'Used_Year').str.replace('CL2', 'Used_Decade').str.replace('CL1', 'Used_Life').str.replace('CL0', 'Never_Used')\n",
        "df['Education'] = df['Education'].str.replace('-2.43591', 'Left_before_16').str.replace('-1.73790', 'Left_at_16').str.replace('-1.43719', 'Left_at_17').str.replace('-1.22751', 'Left_at_18').str.replace('-0.61113', 'Some_College').str.replace('-0.05921', 'Professional_Cert').str.replace('0.45468', 'Univ_degree').str.replace('1.16365', 'Masters_Degree').str.replace('1.98437', 'Dr_Degree')\n",
        "df['Ethnicity'] = df['Ethnicity'].str.replace('-0.50212', 'Asian').str.replace('-1.10702', 'Black').str.replace('1.90725', 'Bl_As').str.replace('0.12600', 'Wh_As').str.replace('-0.22166', 'Wh_Bl').str.replace('0.11440', 'Other').str.replace('-0.31685', 'White')\n",
        "df['Country'] = df['Country'].str.replace('-0.09765', 'Australia').str.replace('0.24923', 'Canada').str.replace('-0.46841', 'New_Zealand').str.replace('-0.28519', 'Other').str.replace('0.21128', 'Ireland').str.replace('0.96082', 'UK').str.replace('-0.57009', 'USA')\n",
        "df['Alcohol'] = df['Alcohol'].str.replace('CL6', 'Used_24hrs').str.replace('CL5', 'Used_7days').str.replace('CL4', 'Used_Month').str.replace('CL3', 'Used_Year').str.replace('CL2', 'Used_Decade').str.replace('CL1', 'Used_Life').str.replace('CL0', 'Never_Used')\n",
        "df['Amphetamine'] = df['Amphetamine'].str.replace('CL6', 'Used_24hrs').str.replace('CL5', 'Used_7days').str.replace('CL4', 'Used_Month').str.replace('CL3', 'Used_Year').str.replace('CL2', 'Used_Decade').str.replace('CL1', 'Used_Life').str.replace('CL0', 'Never_Used')\n",
        "df['Amyl'] = df['Amyl'].str.replace('CL6', 'Used_24hrs').str.replace('CL5', 'Used_7days').str.replace('CL4', 'Used_Month').str.replace('CL3', 'Used_Year').str.replace('CL2', 'Used_Decade').str.replace('CL1', 'Used_Life').str.replace('CL0', 'Never_Used')\n",
        "df['Benzos'] = df['Benzos'].str.replace('CL6', 'Used_24hrs').str.replace('CL5', 'Used_7days').str.replace('CL4', 'Used_Month').str.replace('CL3', 'Used_Year').str.replace('CL2', 'Used_Decade').str.replace('CL1', 'Used_Life').str.replace('CL0', 'Never_Used')\n",
        "df['Caffeine'] = df['Caffeine'].str.replace('CL6', 'Used_24hrs').str.replace('CL5', 'Used_7days').str.replace('CL4', 'Used_Month').str.replace('CL3', 'Used_Year').str.replace('CL2', 'Used_Decade').str.replace('CL1', 'Used_Life').str.replace('CL0', 'Never_Used')\n",
        "df['Chocolate'] = df['Chocolate'].str.replace('CL6', 'Used_24hrs').str.replace('CL5', 'Used_7days').str.replace('CL4', 'Used_Month').str.replace('CL3', 'Used_Year').str.replace('CL2', 'Used_Decade').str.replace('CL1', 'Used_Life').str.replace('CL0', 'Never_Used')\n",
        "df['Cocaine'] = df['Cocaine'].str.replace('CL6', 'Used_24hrs').str.replace('CL5', 'Used_7days').str.replace('CL4', 'Used_Month').str.replace('CL3', 'Used_Year').str.replace('CL2', 'Used_Decade').str.replace('CL1', 'Used_Life').str.replace('CL0', 'Never_Used')\n",
        "df['Crack'] = df['Crack'].str.replace('CL6', 'Used_24hrs').str.replace('CL5', 'Used_7days').str.replace('CL4', 'Used_Month').str.replace('CL3', 'Used_Year').str.replace('CL2', 'Used_Decade').str.replace('CL1', 'Used_Life').str.replace('CL0', 'Never_Used')\n",
        "df['Ecstasy'] = df['Ecstasy'].str.replace('CL6', 'Used_24hrs').str.replace('CL5', 'Used_7days').str.replace('CL4', 'Used_Month').str.replace('CL3', 'Used_Year').str.replace('CL2', 'Used_Decade').str.replace('CL1', 'Used_Life').str.replace('CL0', 'Never_Used')\n",
        "df['Heroin'] = df['Heroin'].str.replace('CL6', 'Used_24hrs').str.replace('CL5', 'Used_7days').str.replace('CL4', 'Used_Month').str.replace('CL3', 'Used_Year').str.replace('CL2', 'Used_Decade').str.replace('CL1', 'Used_Life').str.replace('CL0', 'Never_Used')\n",
        "df['Ketamine'] = df['Ketamine'].str.replace('CL6', 'Used_24hrs').str.replace('CL5', 'Used_7days').str.replace('CL4', 'Used_Month').str.replace('CL3', 'Used_Year').str.replace('CL2', 'Used_Decade').str.replace('CL1', 'Used_Life').str.replace('CL0', 'Never_Used')\n",
        "df['Legal_Highs'] = df['Legal_Highs'].str.replace('CL6', 'Used_24hrs').str.replace('CL5', 'Used_7days').str.replace('CL4', 'Used_Month').str.replace('CL3', 'Used_Year').str.replace('CL2', 'Used_Decade').str.replace('CL1', 'Used_Life').str.replace('CL0', 'Never_Used')\n",
        "df['LSD'] = df['LSD'].str.replace('CL6', 'Used_24hrs').str.replace('CL5', 'Used_7days').str.replace('CL4', 'Used_Month').str.replace('CL3', 'Used_Year').str.replace('CL2', 'Used_Decade').str.replace('CL1', 'Used_Life').str.replace('CL0', 'Never_Used')\n",
        "df['Meth'] = df['Meth'].str.replace('CL6', 'Used_24hrs').str.replace('CL5', 'Used_7days').str.replace('CL4', 'Used_Month').str.replace('CL3', 'Used_Year').str.replace('CL2', 'Used_Decade').str.replace('CL1', 'Used_Life').str.replace('CL0', 'Never_Used')\n",
        "df['Mushrooms'] = df['Mushrooms'].str.replace('CL6', 'Used_24hrs').str.replace('CL5', 'Used_7days').str.replace('CL4', 'Used_Month').str.replace('CL3', 'Used_Year').str.replace('CL2', 'Used_Decade').str.replace('CL1', 'Used_Life').str.replace('CL0', 'Never_Used')\n",
        "df['Nicotine'] = df['Nicotine'].str.replace('CL6', 'Used_24hrs').str.replace('CL5', 'Used_7days').str.replace('CL4', 'Used_Month').str.replace('CL3', 'Used_Year').str.replace('CL2', 'Used_Decade').str.replace('CL1', 'Used_Life').str.replace('CL0', 'Never_Used')\n",
        "df['Semeron'] = df['Semeron'].str.replace('CL6', 'Used_24hrs').str.replace('CL5', 'Used_7days').str.replace('CL4', 'Used_Month').str.replace('CL3', 'Used_Year').str.replace('CL2', 'Used_Decade').str.replace('CL1', 'Used_Life').str.replace('CL0', 'Never_Used')\n",
        "df['VSA'] = df['VSA'].str.replace('CL6', 'Used_24hrs').str.replace('CL5', 'Used_7days').str.replace('CL4', 'Used_Month').str.replace('CL3', 'Used_Year').str.replace('CL2', 'Used_Decade').str.replace('CL1', 'Used_Life').str.replace('CL0', 'Never_Used')"
      ],
      "execution_count": 98,
      "outputs": []
    },
    {
      "cell_type": "code",
      "metadata": {
        "id": "sZ_1gzAd220m"
      },
      "source": [
        "df['NScore_Neuroticism'] = df['NScore_Neuroticism'].astype(float)\n",
        "df['EScore_Extraversion'] = df['EScore_Extraversion'].astype(float)\n",
        "df['OScore_Open_to_Exp'] = df['OScore_Open_to_Exp'].astype(float)\n",
        "df['AScore_Agreeableness'] = df['AScore_Agreeableness'].astype(float)\n",
        "df['CScore_Conscientiousness'] = df['CScore_Conscientiousness'].astype(float)\n",
        "df['Impulsiveness'] = df['Impulsiveness'].astype(float)\n",
        "df['Sensation_Seeing'] = df['Sensation_Seeing'].astype(float)"
      ],
      "execution_count": 99,
      "outputs": []
    },
    {
      "cell_type": "markdown",
      "metadata": {
        "id": "LhZT7KqcdCeu"
      },
      "source": [
        "### *Explore Data*"
      ]
    },
    {
      "cell_type": "code",
      "metadata": {
        "id": "N9u5iQ1r4K7g"
      },
      "source": [
        "df['Age'].value_counts(normalize= True)"
      ],
      "execution_count": null,
      "outputs": []
    },
    {
      "cell_type": "code",
      "metadata": {
        "id": "zpVLRLIrB5LE"
      },
      "source": [
        "df['OScore_Open_to_Exp'].value_counts()"
      ],
      "execution_count": null,
      "outputs": []
    },
    {
      "cell_type": "code",
      "metadata": {
        "colab": {
          "base_uri": "https://localhost:8080/",
          "height": 322
        },
        "id": "Oqyv0QCfcaV7",
        "outputId": "9684b65d-93a2-49cc-e115-c04cb92af022"
      },
      "source": [
        "df.head()"
      ],
      "execution_count": 102,
      "outputs": [
        {
          "output_type": "execute_result",
          "data": {
            "text/html": [
              "<div>\n",
              "<style scoped>\n",
              "    .dataframe tbody tr th:only-of-type {\n",
              "        vertical-align: middle;\n",
              "    }\n",
              "\n",
              "    .dataframe tbody tr th {\n",
              "        vertical-align: top;\n",
              "    }\n",
              "\n",
              "    .dataframe thead th {\n",
              "        text-align: right;\n",
              "    }\n",
              "</style>\n",
              "<table border=\"1\" class=\"dataframe\">\n",
              "  <thead>\n",
              "    <tr style=\"text-align: right;\">\n",
              "      <th></th>\n",
              "      <th>Age</th>\n",
              "      <th>Gender</th>\n",
              "      <th>Education</th>\n",
              "      <th>Country</th>\n",
              "      <th>Ethnicity</th>\n",
              "      <th>NScore_Neuroticism</th>\n",
              "      <th>EScore_Extraversion</th>\n",
              "      <th>OScore_Open_to_Exp</th>\n",
              "      <th>AScore_Agreeableness</th>\n",
              "      <th>CScore_Conscientiousness</th>\n",
              "      <th>Impulsiveness</th>\n",
              "      <th>Sensation_Seeing</th>\n",
              "      <th>Alcohol</th>\n",
              "      <th>Amphetamine</th>\n",
              "      <th>Amyl</th>\n",
              "      <th>Benzos</th>\n",
              "      <th>Caffeine</th>\n",
              "      <th>Cannabis</th>\n",
              "      <th>Chocolate</th>\n",
              "      <th>Cocaine</th>\n",
              "      <th>Crack</th>\n",
              "      <th>Ecstasy</th>\n",
              "      <th>Heroin</th>\n",
              "      <th>Ketamine</th>\n",
              "      <th>Legal_Highs</th>\n",
              "      <th>LSD</th>\n",
              "      <th>Meth</th>\n",
              "      <th>Mushrooms</th>\n",
              "      <th>Nicotine</th>\n",
              "      <th>Semeron</th>\n",
              "      <th>VSA</th>\n",
              "    </tr>\n",
              "    <tr>\n",
              "      <th>ID</th>\n",
              "      <th></th>\n",
              "      <th></th>\n",
              "      <th></th>\n",
              "      <th></th>\n",
              "      <th></th>\n",
              "      <th></th>\n",
              "      <th></th>\n",
              "      <th></th>\n",
              "      <th></th>\n",
              "      <th></th>\n",
              "      <th></th>\n",
              "      <th></th>\n",
              "      <th></th>\n",
              "      <th></th>\n",
              "      <th></th>\n",
              "      <th></th>\n",
              "      <th></th>\n",
              "      <th></th>\n",
              "      <th></th>\n",
              "      <th></th>\n",
              "      <th></th>\n",
              "      <th></th>\n",
              "      <th></th>\n",
              "      <th></th>\n",
              "      <th></th>\n",
              "      <th></th>\n",
              "      <th></th>\n",
              "      <th></th>\n",
              "      <th></th>\n",
              "      <th></th>\n",
              "      <th></th>\n",
              "    </tr>\n",
              "  </thead>\n",
              "  <tbody>\n",
              "    <tr>\n",
              "      <th>2</th>\n",
              "      <td>25-34</td>\n",
              "      <td>Female</td>\n",
              "      <td>Dr_Degree</td>\n",
              "      <td>UK</td>\n",
              "      <td>White</td>\n",
              "      <td>-0.67825</td>\n",
              "      <td>1.93886</td>\n",
              "      <td>1.43533</td>\n",
              "      <td>0.76096</td>\n",
              "      <td>-0.14277</td>\n",
              "      <td>-0.71126</td>\n",
              "      <td>-0.21575</td>\n",
              "      <td>Used_7days</td>\n",
              "      <td>Used_Decade</td>\n",
              "      <td>Used_Decade</td>\n",
              "      <td>Never_Used</td>\n",
              "      <td>Used_24hrs</td>\n",
              "      <td>Used_Month</td>\n",
              "      <td>Used_24hrs</td>\n",
              "      <td>Used_Year</td>\n",
              "      <td>Never_Used</td>\n",
              "      <td>Used_Month</td>\n",
              "      <td>Never_Used</td>\n",
              "      <td>Used_Decade</td>\n",
              "      <td>Never_Used</td>\n",
              "      <td>Used_Decade</td>\n",
              "      <td>Used_Year</td>\n",
              "      <td>Never_Used</td>\n",
              "      <td>Used_Month</td>\n",
              "      <td>Never_Used</td>\n",
              "      <td>Never_Used</td>\n",
              "    </tr>\n",
              "    <tr>\n",
              "      <th>3</th>\n",
              "      <td>35-44</td>\n",
              "      <td>Female</td>\n",
              "      <td>Professional_Cert</td>\n",
              "      <td>UK</td>\n",
              "      <td>White</td>\n",
              "      <td>-0.46725</td>\n",
              "      <td>0.80523</td>\n",
              "      <td>-0.84732</td>\n",
              "      <td>-1.62090</td>\n",
              "      <td>-1.01450</td>\n",
              "      <td>-1.37983</td>\n",
              "      <td>0.40148</td>\n",
              "      <td>Used_24hrs</td>\n",
              "      <td>Never_Used</td>\n",
              "      <td>Never_Used</td>\n",
              "      <td>Never_Used</td>\n",
              "      <td>Used_24hrs</td>\n",
              "      <td>Used_Year</td>\n",
              "      <td>Used_Month</td>\n",
              "      <td>Never_Used</td>\n",
              "      <td>Never_Used</td>\n",
              "      <td>Never_Used</td>\n",
              "      <td>Never_Used</td>\n",
              "      <td>Never_Used</td>\n",
              "      <td>Never_Used</td>\n",
              "      <td>Never_Used</td>\n",
              "      <td>Never_Used</td>\n",
              "      <td>Used_Life</td>\n",
              "      <td>Never_Used</td>\n",
              "      <td>Never_Used</td>\n",
              "      <td>Never_Used</td>\n",
              "    </tr>\n",
              "    <tr>\n",
              "      <th>4</th>\n",
              "      <td>18-24</td>\n",
              "      <td>Male</td>\n",
              "      <td>Masters_Degree</td>\n",
              "      <td>UK</td>\n",
              "      <td>White</td>\n",
              "      <td>-0.14882</td>\n",
              "      <td>-0.80615</td>\n",
              "      <td>-0.01928</td>\n",
              "      <td>0.59042</td>\n",
              "      <td>0.58489</td>\n",
              "      <td>-1.37983</td>\n",
              "      <td>-1.18084</td>\n",
              "      <td>Used_Month</td>\n",
              "      <td>Never_Used</td>\n",
              "      <td>Never_Used</td>\n",
              "      <td>Used_Year</td>\n",
              "      <td>Used_7days</td>\n",
              "      <td>Used_Decade</td>\n",
              "      <td>Used_Month</td>\n",
              "      <td>Used_Decade</td>\n",
              "      <td>Never_Used</td>\n",
              "      <td>Never_Used</td>\n",
              "      <td>Never_Used</td>\n",
              "      <td>Used_Decade</td>\n",
              "      <td>Never_Used</td>\n",
              "      <td>Never_Used</td>\n",
              "      <td>Never_Used</td>\n",
              "      <td>Never_Used</td>\n",
              "      <td>Used_Decade</td>\n",
              "      <td>Never_Used</td>\n",
              "      <td>Never_Used</td>\n",
              "    </tr>\n",
              "    <tr>\n",
              "      <th>5</th>\n",
              "      <td>35-44</td>\n",
              "      <td>Male</td>\n",
              "      <td>Dr_Degree</td>\n",
              "      <td>UK</td>\n",
              "      <td>White</td>\n",
              "      <td>0.73545</td>\n",
              "      <td>-1.63340</td>\n",
              "      <td>-0.45174</td>\n",
              "      <td>-0.30172</td>\n",
              "      <td>1.30612</td>\n",
              "      <td>-0.21712</td>\n",
              "      <td>-0.21575</td>\n",
              "      <td>Used_Month</td>\n",
              "      <td>Used_Life</td>\n",
              "      <td>Used_Life</td>\n",
              "      <td>Never_Used</td>\n",
              "      <td>Used_24hrs</td>\n",
              "      <td>Used_Year</td>\n",
              "      <td>Used_24hrs</td>\n",
              "      <td>Never_Used</td>\n",
              "      <td>Never_Used</td>\n",
              "      <td>Used_Life</td>\n",
              "      <td>Never_Used</td>\n",
              "      <td>Never_Used</td>\n",
              "      <td>Used_Life</td>\n",
              "      <td>Never_Used</td>\n",
              "      <td>Never_Used</td>\n",
              "      <td>Used_Decade</td>\n",
              "      <td>Used_Decade</td>\n",
              "      <td>Never_Used</td>\n",
              "      <td>Never_Used</td>\n",
              "    </tr>\n",
              "    <tr>\n",
              "      <th>6</th>\n",
              "      <td>65+</td>\n",
              "      <td>Male</td>\n",
              "      <td>Left_at_18</td>\n",
              "      <td>Canada</td>\n",
              "      <td>White</td>\n",
              "      <td>-0.67825</td>\n",
              "      <td>-0.30033</td>\n",
              "      <td>-1.55521</td>\n",
              "      <td>2.03972</td>\n",
              "      <td>1.63088</td>\n",
              "      <td>-1.37983</td>\n",
              "      <td>-1.54858</td>\n",
              "      <td>Used_Decade</td>\n",
              "      <td>Never_Used</td>\n",
              "      <td>Never_Used</td>\n",
              "      <td>Never_Used</td>\n",
              "      <td>Used_24hrs</td>\n",
              "      <td>Never_Used</td>\n",
              "      <td>Used_Month</td>\n",
              "      <td>Never_Used</td>\n",
              "      <td>Never_Used</td>\n",
              "      <td>Never_Used</td>\n",
              "      <td>Never_Used</td>\n",
              "      <td>Never_Used</td>\n",
              "      <td>Never_Used</td>\n",
              "      <td>Never_Used</td>\n",
              "      <td>Never_Used</td>\n",
              "      <td>Never_Used</td>\n",
              "      <td>Used_24hrs</td>\n",
              "      <td>Never_Used</td>\n",
              "      <td>Never_Used</td>\n",
              "    </tr>\n",
              "  </tbody>\n",
              "</table>\n",
              "</div>"
            ],
            "text/plain": [
              "      Age  Gender          Education  ...     Nicotine     Semeron         VSA\n",
              "ID                                    ...                                     \n",
              "2   25-34  Female          Dr_Degree  ...   Used_Month  Never_Used  Never_Used\n",
              "3   35-44  Female  Professional_Cert  ...   Never_Used  Never_Used  Never_Used\n",
              "4   18-24    Male     Masters_Degree  ...  Used_Decade  Never_Used  Never_Used\n",
              "5   35-44    Male          Dr_Degree  ...  Used_Decade  Never_Used  Never_Used\n",
              "6     65+    Male         Left_at_18  ...   Used_24hrs  Never_Used  Never_Used\n",
              "\n",
              "[5 rows x 31 columns]"
            ]
          },
          "metadata": {
            "tags": []
          },
          "execution_count": 102
        }
      ]
    },
    {
      "cell_type": "markdown",
      "metadata": {
        "id": "_zhpwIntk_L9"
      },
      "source": [
        "### *Choose target and split data*"
      ]
    },
    {
      "cell_type": "code",
      "metadata": {
        "id": "aBIZpUiWhvm3"
      },
      "source": [
        "target = 'Meth'\n",
        "X = df.drop(columns= target)\n",
        "y = df[target]"
      ],
      "execution_count": 104,
      "outputs": []
    },
    {
      "cell_type": "code",
      "metadata": {
        "id": "sDkKYyIk2r5J"
      },
      "source": [
        "X_train, X_val, y_train, y_val = train_test_split(X, y, test_size= 0.2, random_state= 42)\n"
      ],
      "execution_count": 105,
      "outputs": []
    },
    {
      "cell_type": "code",
      "metadata": {
        "colab": {
          "base_uri": "https://localhost:8080/"
        },
        "id": "N0C03RCEgNzx",
        "outputId": "a2f36b11-3a27-45a5-c60a-32ff4d127390"
      },
      "source": [
        "print(X_train.shape)\n",
        "print(y_train.shape)\n",
        "print(X_val.shape)\n",
        "print(y_val.shape)"
      ],
      "execution_count": 106,
      "outputs": [
        {
          "output_type": "stream",
          "text": [
            "(1507, 30)\n",
            "(1507,)\n",
            "(377, 30)\n",
            "(377,)\n"
          ],
          "name": "stdout"
        }
      ]
    },
    {
      "cell_type": "markdown",
      "metadata": {
        "id": "C9LxhS5SlTrK"
      },
      "source": [
        "### *Build Models*"
      ]
    },
    {
      "cell_type": "code",
      "metadata": {
        "colab": {
          "base_uri": "https://localhost:8080/"
        },
        "id": "8gD28JXN2xXQ",
        "outputId": "659467fe-6611-40ae-e15c-77717e44c265"
      },
      "source": [
        "model_rf = make_pipeline(OrdinalEncoder(),\n",
        "                         SimpleImputer(),\n",
        "                         RandomForestClassifier(max_depth= 10, n_jobs= -1))\n",
        "\n",
        "model_rf.fit(X_train, y_train)\n",
        "print('Validation Score: ', model_rf.score(X_val, y_val))"
      ],
      "execution_count": 108,
      "outputs": [
        {
          "output_type": "stream",
          "text": [
            "Validation Score:  0.7771883289124668\n"
          ],
          "name": "stdout"
        }
      ]
    },
    {
      "cell_type": "code",
      "metadata": {
        "colab": {
          "base_uri": "https://localhost:8080/"
        },
        "id": "F2E6bJ5VhMKV",
        "outputId": "dd4c222a-8397-4278-a2d4-516ce2fadde0"
      },
      "source": [
        "print('Baseline accuracy ', y_train.value_counts(normalize= True).max())"
      ],
      "execution_count": 109,
      "outputs": [
        {
          "output_type": "stream",
          "text": [
            "Baseline accuracy  0.7551426675514267\n"
          ],
          "name": "stdout"
        }
      ]
    },
    {
      "cell_type": "code",
      "metadata": {
        "id": "y9dz4Xal7VTi"
      },
      "source": [
        "df_numerical = df.select_dtypes(exclude= 'object')\n",
        "df_numerical.head()"
      ],
      "execution_count": null,
      "outputs": []
    },
    {
      "cell_type": "code",
      "metadata": {
        "id": "88cxbzwz748Y"
      },
      "source": [
        "from xgboost import XGBClassifier\n",
        "\n",
        "model_boost = make_pipeline(OrdinalEncoder(),\n",
        "                            SimpleImputer(strategy= 'median'),\n",
        "                            XGBClassifier(n_estimators= 75, learning_rate= 0.2,\n",
        "                                          random_state= 42))\n",
        "model_boost.fit(X_train, y_train);"
      ],
      "execution_count": 113,
      "outputs": []
    },
    {
      "cell_type": "code",
      "metadata": {
        "id": "WGghhP1j057a"
      },
      "source": [
        "target= 'Amphetamine'\n",
        "X2 = df_cat.drop(columns= target)\n",
        "y2 = df_cat[target]\n",
        "\n",
        "X2_train, X2_val, y2_train, y2_val = train_test_split(X2, y2, test_size= 0.3, \n",
        "                                                      random_state= 42)"
      ],
      "execution_count": 117,
      "outputs": []
    },
    {
      "cell_type": "code",
      "metadata": {
        "id": "t8tiW5_bz-NP"
      },
      "source": [
        "model_boost_cat = make_pipeline(OrdinalEncoder(),\n",
        "                            SimpleImputer(strategy= 'median'),\n",
        "                            XGBClassifier(n_estimators= 50, learning_rate= 0.1,\n",
        "                                          random_state= 42, n_jobs= -1))\n",
        "model_boost_cat.fit(X2_train, y2_train);"
      ],
      "execution_count": 154,
      "outputs": []
    },
    {
      "cell_type": "markdown",
      "metadata": {
        "id": "d4wlhYB5lmQF"
      },
      "source": [
        "### *Check Metrics and Visualize Data*"
      ]
    },
    {
      "cell_type": "code",
      "metadata": {
        "id": "Trh2MjIrh194",
        "colab": {
          "base_uri": "https://localhost:8080/"
        },
        "outputId": "02fcd0ee-882b-42f6-ee20-0d35fc8400c1"
      },
      "source": [
        "print('Training Accuracy: ', model_boost.score(X_train, y_train))\n",
        "print('Validation Accuracy: ', model_boost.score(X_val, y_val))"
      ],
      "execution_count": 142,
      "outputs": [
        {
          "output_type": "stream",
          "text": [
            "Training Accuracy:  0.9256801592568016\n",
            "Validation Accuracy:  0.7798408488063661\n"
          ],
          "name": "stdout"
        }
      ]
    },
    {
      "cell_type": "code",
      "metadata": {
        "colab": {
          "base_uri": "https://localhost:8080/"
        },
        "id": "MVQsBtPC3U2W",
        "outputId": "024969f6-078a-4bc3-9b9f-1db1bbe135ea"
      },
      "source": [
        "baseline_acc2 = y2_train.value_counts(normalize= True).max()\n",
        "print('Baseline Accuracy 2: ', baseline_acc2)\n",
        "print('Training Accuracy 2: ', model_boost_cat.score(X2_train, y2_train))\n",
        "print('Validation Accuracy 2: ', model_boost_cat.score(X2_val, y2_val))"
      ],
      "execution_count": 155,
      "outputs": [
        {
          "output_type": "stream",
          "text": [
            "Baseline Accuracy 2:  0.5098634294385432\n",
            "Training Accuracy 2:  0.7496206373292867\n",
            "Validation Accuracy 2:  0.6431095406360424\n"
          ],
          "name": "stdout"
        }
      ]
    },
    {
      "cell_type": "code",
      "metadata": {
        "id": "8zjEULEZzN7Y"
      },
      "source": [
        "df_cat = df.select_dtypes(exclude= 'number')"
      ],
      "execution_count": 115,
      "outputs": []
    },
    {
      "cell_type": "code",
      "metadata": {
        "id": "7Q7-PVu3z80d"
      },
      "source": [
        "df_cat.head()"
      ],
      "execution_count": null,
      "outputs": []
    },
    {
      "cell_type": "code",
      "metadata": {
        "id": "qtCnUevu3CY9",
        "colab": {
          "base_uri": "https://localhost:8080/",
          "height": 350
        },
        "outputId": "9e04eda7-7204-4cb1-d18a-7e61e47156d8"
      },
      "source": [
        "rf = model_rf.named_steps['randomforestclassifier']\n",
        "importances = pd.Series(rf.feature_importances_, X_train.columns)\n",
        "\n",
        "n = 10\n",
        "plt.figure(figsize=(10,n/2))\n",
        "plt.title(f'Top {n} features')\n",
        "importances.sort_values()[-n:].plot.barh(color='grey')\n",
        "plt.xlabel('Feature Importance for Meth')\n",
        "plt.ylabel('Features');"
      ],
      "execution_count": 112,
      "outputs": [
        {
          "output_type": "display_data",
          "data": {
            "image/png": "[encoded data removed]",
            "text/plain": [
              "<Figure size 720x360 with 1 Axes>"
            ]
          },
          "metadata": {
            "tags": [],
            "needs_background": "light"
          }
        }
      ]
    },
    {
      "cell_type": "code",
      "metadata": {
        "colab": {
          "base_uri": "https://localhost:8080/",
          "height": 350
        },
        "id": "ufdYYQ7U4ZDC",
        "outputId": "5a1ce220-a193-44a1-e86f-4ce2960941b0"
      },
      "source": [
        "boost_cat = model_boost_cat.named_steps['xgbclassifier']\n",
        "importances_cat = pd.Series(boost_cat.feature_importances_, X2_val.columns)\n",
        "\n",
        "n = 10\n",
        "plt.figure(figsize=(10,n/2))\n",
        "plt.title(f'Top {n} features')\n",
        "importances_cat.sort_values()[-n:].plot.barh(color= 'blue')\n",
        "plt.xlabel('Feature Importance with relation to Amphetamine')\n",
        "plt.ylabel('Features');"
      ],
      "execution_count": 148,
      "outputs": [
        {
          "output_type": "display_data",
          "data": {
            "image/png": "[encoded data removed]",
            "text/plain": [
              "<Figure size 720x360 with 1 Axes>"
            ]
          },
          "metadata": {
            "tags": [],
            "needs_background": "light"
          }
        }
      ]
    },
    {
      "cell_type": "code",
      "metadata": {
        "colab": {
          "base_uri": "https://localhost:8080/"
        },
        "id": "NfVwzOdollbI",
        "outputId": "919056dc-a3d3-48ee-85b9-4fb90b33843c"
      },
      "source": [
        "df_numerical.shape"
      ],
      "execution_count": 122,
      "outputs": [
        {
          "output_type": "execute_result",
          "data": {
            "text/plain": [
              "(1884, 7)"
            ]
          },
          "metadata": {
            "tags": []
          },
          "execution_count": 122
        }
      ]
    },
    {
      "cell_type": "code",
      "metadata": {
        "id": "f62i_dExpoaE"
      },
      "source": [
        "heroin = df_cat['Heroin']\n",
        "cannabis = df_cat['Cannabis']\n",
        "meth = df_cat['Meth']\n",
        "alcohol = df_cat['Alcohol']\n",
        "ketamine = df_cat['Ketamine']\n",
        "acid = df_cat['LSD']\n",
        "mushrooms = df_cat['Mushrooms']\n",
        "nicotine = df_cat['Nicotine']\n",
        "caffeine = df_cat['Caffeine']\n",
        "chocolate = df_cat['Chocolate']\n",
        "\n",
        "age_group = df_cat['Age']\n",
        "O_score = df_numerical['OScore_Open_to_Exp']\n",
        "C_score = df_numerical['CScore_Conscientiousness']\n",
        "E_score = df_numerical['EScore_Extraversion']\n",
        "A_score = df_numerical['AScore_Agreeableness']\n",
        "N_score = df_numerical['NScore_Neuroticism']\n",
        "impulsiveness = df_numerical['Impulsiveness']\n",
        "sen_seeing = df_numerical['Sensation_Seeing']\n",
        "education = df_cat['Education']\n",
        "\n",
        "illegal_drugs = pd.DataFrame(data= df_cat, columns= ['Heroin', 'Meth', 'Ketamine',\n",
        "                                                     'LSD', 'Mushrooms'])\n",
        "legal_drugs = pd.DataFrame(data= df_cat, columns= ['Cannabis', 'Nicotine', 'Caffeine',\n",
        "                                                   'Alcohol', 'Chocolate'])"
      ],
      "execution_count": 160,
      "outputs": []
    },
    {
      "cell_type": "code",
      "metadata": {
        "colab": {
          "base_uri": "https://localhost:8080/",
          "height": 1000
        },
        "id": "sPW8kOtI4705",
        "outputId": "afcf78c1-b2d3-43a2-95eb-b745d10ad4e8"
      },
      "source": [
        "import seaborn as sns\n",
        "\n",
        "sns.catplot(data= df_cat, x= O_score, y= heroin);\n",
        "sns.catplot(data= df_cat, x= C_score, y= heroin);\n",
        "sns.catplot(data= df_cat, x= E_score, y= heroin);\n",
        "sns.catplot(data= df_cat, x= A_score, y= heroin);\n",
        "sns.catplot(data= df_cat, x= N_score, y= heroin);"
      ],
      "execution_count": 182,
      "outputs": [
        {
          "output_type": "display_data",
          "data": {
            "image/png": "[encoded data removed]",
            "text/plain": [
              "<Figure size 360x360 with 1 Axes>"
            ]
          },
          "metadata": {
            "tags": [],
            "needs_background": "light"
          }
        },
        {
          "output_type": "display_data",
          "data": {
            "image/png": "[encoded data removed]",
            "text/plain": [
              "<Figure size 360x360 with 1 Axes>"
            ]
          },
          "metadata": {
            "tags": [],
            "needs_background": "light"
          }
        },
        {
          "output_type": "display_data",
          "data": {
            "image/png": "[encoded data removed]",
            "text/plain": [
              "<Figure size 360x360 with 1 Axes>"
            ]
          },
          "metadata": {
            "tags": [],
            "needs_background": "light"
          }
        },
        {
          "output_type": "display_data",
          "data": {
            "image/png": "[encoded data removed]",
            "text/plain": [
              "<Figure size 360x360 with 1 Axes>"
            ]
          },
          "metadata": {
            "tags": [],
            "needs_background": "light"
          }
        },
        {
          "output_type": "display_data",
          "data": {
            "image/png": "[encoded data removed]",
            "text/plain": [
              "<Figure size 360x360 with 1 Axes>"
            ]
          },
          "metadata": {
            "tags": [],
            "needs_background": "light"
          }
        }
      ]
    },
    {
      "cell_type": "markdown",
      "metadata": {
        "id": "7Teseiq0XWh9"
      },
      "source": [
        "##### **O-Score(Openness)** is a person's willingness to be open to new ideas and experiences.  Scoring is again, very similar to the the E-Score in the sense that a higher positive score indicates you are more likely to experiment with various substances.\n",
        "\n",
        "##### **C-Score(Conscientiousness)** shows organization vs chaos. At the highest end of the scale, perfectionism and OCD are prevalent.  On the lowest end of the scale would be those who act before thinking and spontaneous individuals. \n",
        "\n",
        "##### **E-Score(Extraversion)** in this scenario uses 0 as a start point and a positive score indicating you are more extroverted while a negative score indicates a personality that is more introverted.\n",
        "\n",
        "##### **A-Score(Agreeableness)** is how agreeable or prone to persuasion an individual is. Someone with a higher score is more likely to be a people pleaser, while someone with a low score is more likely to be invested in personal interests.\n",
        "\n",
        "##### **N-Score(Neuroticism)** is scored on a scale of 0-12. A score of 0-6 means there is a general lack of Neuroticism present and 6-12 indicates a positive result for Neuroticism.  In this case, we will be using a scale from -3.0 to 3.0 with 0.0 being the cutoff.  A lower score represents someone who is typically calm under pressure, optimistic, and/or has strong coping skills.  A higher score would represent someone who struggles to cope with everyday problems, self-conscious, and may have trouble controlling impulsive decisions.\n"
      ]
    },
    {
      "cell_type": "code",
      "metadata": {
        "id": "qeddmNRqy1aD"
      },
      "source": [
        ""
      ],
      "execution_count": null,
      "outputs": []
    }
  ]
}